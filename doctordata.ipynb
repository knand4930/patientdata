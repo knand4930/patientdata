{
 "cells": [
  {
   "cell_type": "code",
   "execution_count": 1,
   "id": "2dcfcd91-0503-42d9-a321-fd480a8f62c6",
   "metadata": {},
   "outputs": [],
   "source": [
    "import numpy as np"
   ]
  },
  {
   "cell_type": "code",
   "execution_count": 2,
   "id": "7b23a4fe-48a6-4f84-8e90-712c2cbb6e17",
   "metadata": {},
   "outputs": [],
   "source": [
    "import pandas as pd"
   ]
  },
  {
   "cell_type": "code",
   "execution_count": 3,
   "id": "be0c8717-e3a5-43cb-baa5-9cede286272a",
   "metadata": {},
   "outputs": [],
   "source": [
    "file = \"/home/ubuntu/Music/ics/EPIC_EMR/EMR/patient_medications.csv\""
   ]
  },
  {
   "cell_type": "code",
   "execution_count": null,
   "id": "c766e4b4-8d0d-4c30-97f8-095040c41ef7",
   "metadata": {},
   "outputs": [],
   "source": [
    "df = pd.read_csv(file)"
   ]
  },
  {
   "cell_type": "code",
   "execution_count": null,
   "id": "343dd16b-2224-491e-aa2a-f372272f65d0",
   "metadata": {
    "scrolled": true
   },
   "outputs": [],
   "source": [
    "df"
   ]
  },
  {
   "cell_type": "code",
   "execution_count": null,
   "id": "ba5b9512-43d7-4c07-b8c8-d4f156772eda",
   "metadata": {},
   "outputs": [],
   "source": [
    "df.head()"
   ]
  },
  {
   "cell_type": "code",
   "execution_count": null,
   "id": "4dd2e146-c234-4c24-8d29-9f2dc559376d",
   "metadata": {},
   "outputs": [],
   "source": [
    "df.columns = [col.replace(\" \", \"_\") if isinstance(col, str) else \"_\" for col in df.columns]"
   ]
  },
  {
   "cell_type": "code",
   "execution_count": null,
   "id": "0d383107-36b8-4a6c-8e7d-aa3cad987f38",
   "metadata": {},
   "outputs": [],
   "source": []
  }
 ],
 "metadata": {
  "kernelspec": {
   "display_name": "Python 3 (ipykernel)",
   "language": "python",
   "name": "python3"
  },
  "language_info": {
   "codemirror_mode": {
    "name": "ipython",
    "version": 3
   },
   "file_extension": ".py",
   "mimetype": "text/x-python",
   "name": "python",
   "nbconvert_exporter": "python",
   "pygments_lexer": "ipython3",
   "version": "3.12.7"
  }
 },
 "nbformat": 4,
 "nbformat_minor": 5
}
